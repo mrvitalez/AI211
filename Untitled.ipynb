{
 "cells": [
  {
   "cell_type": "code",
   "execution_count": 1,
   "id": "4a2a136f",
   "metadata": {},
   "outputs": [],
   "source": [
    "import numpy as np"
   ]
  },
  {
   "cell_type": "code",
   "execution_count": 3,
   "id": "7f2391fa",
   "metadata": {},
   "outputs": [],
   "source": [
    "def gaussian_elimination(A):\n",
    "    \n",
    "    if len(A) == 0 or len(A[0]) == 0:\n",
    "        raise ErrorValue(\"Invalid Matrix A\")\n",
    "        \n",
    "    A = np.array(A, dtype=float)\n",
    "    \n",
    "    rows, cols = A.shape\n",
    "    \n",
    "    for i in range(rows):\n",
    "        \n",
    "        pivot_row = i\n",
    "        for j in range(i +1, rows):\n",
    "            if abs(A[j, i]) > abs(A[pivot_row, i]):\n",
    "                pivot_row = j\n",
    "                \n",
    "        A[[i, pivot_row]] = A[[pivot_row, i]]\n",
    "        \n",
    "        pivot = A[i,i]\n",
    "        A[i, :] /= pivot\n",
    "        \n",
    "        for j in range(rows):\n",
    "            if j != i:\n",
    "                factor = A[j, i]\n",
    "                A[j, :] -= factor * A[i, :]\n",
    "    return A"
   ]
  },
  {
   "cell_type": "code",
   "execution_count": 4,
   "id": "a1b36c2d",
   "metadata": {},
   "outputs": [
    {
     "name": "stdout",
     "output_type": "stream",
     "text": [
      "Column Space (C):\n",
      "[[-2  1  3  7]\n",
      " [-3  0  1  0]\n",
      " [-2 -1  0 -2]]\n",
      "Row Space(R):\n",
      "[[1.0000000e+00 0.0000000e+00 0.0000000e+00 1.0000000e+00]\n",
      " [0.0000000e+00 1.0000000e+00 0.0000000e+00 8.8817842e-16]\n",
      " [0.0000000e+00 0.0000000e+00 1.0000000e+00 3.0000000e+00]]\n"
     ]
    }
   ],
   "source": [
    "A = ([\n",
    "    [-2, 1, 3, 7],\n",
    "    [-3, 0, 1, 0],\n",
    "    [-2, -1, 0, -2]\n",
    "])\n",
    "\n",
    "RREF = gaussian_elimination(A)\n",
    "\n",
    "row_space = RREF[np.any(RREF !=0, axis=1)]\n",
    "\n",
    "column_space = np.array(A)[:, np.any(RREF !=0, axis=0)]\n",
    "\n",
    "print(\"Column Space (C):\")\n",
    "print(column_space)\n",
    "\n",
    "print(\"Row Space(R):\")\n",
    "print(row_space)"
   ]
  },
  {
   "cell_type": "code",
   "execution_count": 7,
   "id": "4a75f08f",
   "metadata": {},
   "outputs": [
    {
     "name": "stderr",
     "output_type": "stream",
     "text": [
      "/var/folders/v3/rnq7jxvn26l8hxxwf7_m8k240000gn/T/ipykernel_8247/1961728465.py:18: RuntimeWarning: invalid value encountered in true_divide\n",
      "  A[i, :] /= pivot\n"
     ]
    },
    {
     "ename": "IndexError",
     "evalue": "index 3 is out of bounds for axis 1 with size 3",
     "output_type": "error",
     "traceback": [
      "\u001b[0;31m---------------------------------------------------------------------------\u001b[0m",
      "\u001b[0;31mIndexError\u001b[0m                                Traceback (most recent call last)",
      "Input \u001b[0;32mIn [7]\u001b[0m, in \u001b[0;36m<cell line: 8>\u001b[0;34m()\u001b[0m\n\u001b[1;32m      1\u001b[0m A \u001b[38;5;241m=\u001b[39m ([\n\u001b[1;32m      2\u001b[0m    [\u001b[38;5;241m-\u001b[39m\u001b[38;5;241m2\u001b[39m, \u001b[38;5;241m1\u001b[39m, \u001b[38;5;241m2\u001b[39m],\n\u001b[1;32m      3\u001b[0m    [\u001b[38;5;241m0\u001b[39m, \u001b[38;5;241m-\u001b[39m\u001b[38;5;241m2\u001b[39m, \u001b[38;5;241m2\u001b[39m],\n\u001b[1;32m      4\u001b[0m    [\u001b[38;5;241m2\u001b[39m, \u001b[38;5;241m-\u001b[39m\u001b[38;5;241m3\u001b[39m, \u001b[38;5;241m0\u001b[39m],\n\u001b[1;32m      5\u001b[0m    [\u001b[38;5;241m6\u001b[39m, \u001b[38;5;241m-\u001b[39m\u001b[38;5;241m5\u001b[39m, \u001b[38;5;241m-\u001b[39m\u001b[38;5;241m4\u001b[39m]\n\u001b[1;32m      6\u001b[0m ])\n\u001b[0;32m----> 8\u001b[0m RREF \u001b[38;5;241m=\u001b[39m \u001b[43mgaussian_elimination\u001b[49m\u001b[43m(\u001b[49m\u001b[43mA\u001b[49m\u001b[43m)\u001b[49m\n\u001b[1;32m     10\u001b[0m row_space \u001b[38;5;241m=\u001b[39m RREF[np\u001b[38;5;241m.\u001b[39many(RREF \u001b[38;5;241m!=\u001b[39m\u001b[38;5;241m0\u001b[39m, axis\u001b[38;5;241m=\u001b[39m\u001b[38;5;241m1\u001b[39m)]\n\u001b[1;32m     12\u001b[0m column_space \u001b[38;5;241m=\u001b[39m np\u001b[38;5;241m.\u001b[39marray(A)[:, np\u001b[38;5;241m.\u001b[39many(RREF \u001b[38;5;241m!=\u001b[39m\u001b[38;5;241m0\u001b[39m, axis\u001b[38;5;241m=\u001b[39m\u001b[38;5;241m0\u001b[39m)]\n",
      "Input \u001b[0;32mIn [3]\u001b[0m, in \u001b[0;36mgaussian_elimination\u001b[0;34m(A)\u001b[0m\n\u001b[1;32m     13\u001b[0m         pivot_row \u001b[38;5;241m=\u001b[39m j\n\u001b[1;32m     15\u001b[0m A[[i, pivot_row]] \u001b[38;5;241m=\u001b[39m A[[pivot_row, i]]\n\u001b[0;32m---> 17\u001b[0m pivot \u001b[38;5;241m=\u001b[39m \u001b[43mA\u001b[49m\u001b[43m[\u001b[49m\u001b[43mi\u001b[49m\u001b[43m,\u001b[49m\u001b[43mi\u001b[49m\u001b[43m]\u001b[49m\n\u001b[1;32m     18\u001b[0m A[i, :] \u001b[38;5;241m/\u001b[39m\u001b[38;5;241m=\u001b[39m pivot\n\u001b[1;32m     20\u001b[0m \u001b[38;5;28;01mfor\u001b[39;00m j \u001b[38;5;129;01min\u001b[39;00m \u001b[38;5;28mrange\u001b[39m(rows):\n",
      "\u001b[0;31mIndexError\u001b[0m: index 3 is out of bounds for axis 1 with size 3"
     ]
    }
   ],
   "source": [
    " A = ([\n",
    "    [-2, 1, 2],\n",
    "    [0, -2, 2],\n",
    "    [2, -3, 0],\n",
    "    [6, -5, -4]\n",
    "])\n",
    "\n",
    "RREF = gaussian_elimination(A)\n",
    "\n",
    "row_space = RREF[np.any(RREF !=0, axis=1)]\n",
    "\n",
    "column_space = np.array(A)[:, np.any(RREF !=0, axis=0)]\n",
    "\n",
    "print(\"Column Space (C):\")\n",
    "print(column_space)\n",
    "\n",
    "print(\"Row Space(R):\")\n",
    "print(row_space)"
   ]
  },
  {
   "cell_type": "code",
   "execution_count": null,
   "id": "6dd5691e",
   "metadata": {},
   "outputs": [],
   "source": []
  }
 ],
 "metadata": {
  "kernelspec": {
   "display_name": "Python 3 (ipykernel)",
   "language": "python",
   "name": "python3"
  },
  "language_info": {
   "codemirror_mode": {
    "name": "ipython",
    "version": 3
   },
   "file_extension": ".py",
   "mimetype": "text/x-python",
   "name": "python",
   "nbconvert_exporter": "python",
   "pygments_lexer": "ipython3",
   "version": "3.9.12"
  }
 },
 "nbformat": 4,
 "nbformat_minor": 5
}
