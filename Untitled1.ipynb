{
 "cells": [
  {
   "cell_type": "code",
   "execution_count": 7,
   "id": "00f9d924",
   "metadata": {},
   "outputs": [],
   "source": [
    "import numpy as np\n",
    "from typing import Tuple"
   ]
  },
  {
   "cell_type": "code",
   "execution_count": 8,
   "id": "a536e1bc",
   "metadata": {},
   "outputs": [],
   "source": [
    "def swap_rows(A: np.ndarray, r1: int, r2: int) -> np.ndarray:\n",
    "    \n",
    "    B = np.copy(A)\n",
    "    B[[r1, r2]] = B[[r2, r1]]\n",
    "    return B\n",
    "\n",
    "def scale_row(A: np.ndarray, r: int, s: int) -> np.ndarray:\n",
    "\n",
    "    if s == 0:\n",
    "        raise ValueError(\"s input should be non-zero\")\n",
    "    return np.copy(A) * s\n",
    "\n",
    "def add_row(A: np.ndarray, r1: int, r2: int, s: int) -> np.ndarray:\n",
    "    \n",
    "    if s == 0:\n",
    "        raise ValueError(\"s input should be non-zero\")\n",
    "    return np.copy(A) + A[r1] * s\n",
    "        "
   ]
  },
  {
   "cell_type": "code",
   "execution_count": 9,
   "id": "303fb3ba",
   "metadata": {},
   "outputs": [],
   "source": [
    "def gaussian_elimination(A: np.ndarray) -> Tuple[np.ndarray, np.ndarray]:\n",
    "    B = np.copy(A).astype(float)\n",
    "    num_rows, num_cols = B.shape\n",
    "    \n",
    "    for i in range(num_rows):\n",
    "        \n",
    "        pivot_row = i\n",
    "        pivot = B[i][i]\n",
    "        \n",
    "        while pivot == 0 and pivot_row < num_rows-1:\n",
    "            pivot_row += 1\n",
    "            pivot = B[pivot_row][i]\n",
    "            \n",
    "        if pivot_row !=i:\n",
    "            B = swap_rows(B, i, pivot_row)\n",
    "            \n",
    "        if pivot != 0:\n",
    "            B[i] /= pivot\n",
    "            for j in range(i + 1, num_rows):\n",
    "                s = B[j, i]\n",
    "                if s != 0:\n",
    "                    B[j] -= B[i] * s\n",
    "        \n",
    "        else:\n",
    "            B = np.delete(B, i, axis =0)\n",
    "            num_rows -= 1\n",
    "            \n",
    "    for i in range(1, num_rows):\n",
    "        for j in range(i -1, -1, -1):\n",
    "            s = B[j, i]\n",
    "            if s != 0:\n",
    "                B[j] -= B[i] * s\n",
    "                \n",
    "    R = np.round(B, 4)\n",
    "    pivot_filter = np.sum(R, axis=0) == 1\n",
    "    C = A[:, pivot_filter]\n",
    "    \n",
    "    return C, R"
   ]
  },
  {
   "cell_type": "code",
   "execution_count": 10,
   "id": "a6977c5e",
   "metadata": {},
   "outputs": [
    {
     "name": "stdout",
     "output_type": "stream",
     "text": [
      "Column Space, C:\n",
      "[[-2  1  3]\n",
      " [-3  0  1]\n",
      " [-2 -1  0]]\n",
      "Row Space, R:\n",
      "[[ 1.  0.  0.  1.]\n",
      " [-0.  1.  0.  0.]\n",
      " [ 0.  0.  1.  3.]]\n"
     ]
    }
   ],
   "source": [
    "A = np.array([\n",
    "    [-2, 1, 3, 7],\n",
    "    [-3, 0, 1, 0],\n",
    "    [-2, -1, 0, -2]\n",
    "])\n",
    "\n",
    "C, R = gaussian_elimination(A)\n",
    "\n",
    "print(\"Column Space, C:\")\n",
    "print(C)\n",
    "\n",
    "print(\"Row Space, R:\")\n",
    "print(R)"
   ]
  },
  {
   "cell_type": "code",
   "execution_count": 11,
   "id": "52b5d228",
   "metadata": {},
   "outputs": [
    {
     "ename": "IndexError",
     "evalue": "index 3 is out of bounds for axis 0 with size 3",
     "output_type": "error",
     "traceback": [
      "\u001b[0;31m---------------------------------------------------------------------------\u001b[0m",
      "\u001b[0;31mIndexError\u001b[0m                                Traceback (most recent call last)",
      "Input \u001b[0;32mIn [11]\u001b[0m, in \u001b[0;36m<cell line: 8>\u001b[0;34m()\u001b[0m\n\u001b[1;32m      1\u001b[0m A \u001b[38;5;241m=\u001b[39m np\u001b[38;5;241m.\u001b[39marray([\n\u001b[1;32m      2\u001b[0m     [\u001b[38;5;241m-\u001b[39m\u001b[38;5;241m2\u001b[39m, \u001b[38;5;241m1\u001b[39m, \u001b[38;5;241m2\u001b[39m],\n\u001b[1;32m      3\u001b[0m     [\u001b[38;5;241m0\u001b[39m, \u001b[38;5;241m-\u001b[39m\u001b[38;5;241m2\u001b[39m, \u001b[38;5;241m2\u001b[39m],\n\u001b[1;32m      4\u001b[0m     [\u001b[38;5;241m2\u001b[39m, \u001b[38;5;241m-\u001b[39m\u001b[38;5;241m3\u001b[39m, \u001b[38;5;241m0\u001b[39m],\n\u001b[1;32m      5\u001b[0m     [\u001b[38;5;241m6\u001b[39m, \u001b[38;5;241m-\u001b[39m\u001b[38;5;241m5\u001b[39m, \u001b[38;5;241m-\u001b[39m\u001b[38;5;241m4\u001b[39m]\n\u001b[1;32m      6\u001b[0m ])\n\u001b[0;32m----> 8\u001b[0m C, R \u001b[38;5;241m=\u001b[39m \u001b[43mgaussian_elimination\u001b[49m\u001b[43m(\u001b[49m\u001b[43mA\u001b[49m\u001b[43m)\u001b[49m\n\u001b[1;32m     10\u001b[0m \u001b[38;5;28mprint\u001b[39m(\u001b[38;5;124m\"\u001b[39m\u001b[38;5;124mColumn Space, C:\u001b[39m\u001b[38;5;124m\"\u001b[39m)\n\u001b[1;32m     11\u001b[0m \u001b[38;5;28mprint\u001b[39m(C)\n",
      "Input \u001b[0;32mIn [9]\u001b[0m, in \u001b[0;36mgaussian_elimination\u001b[0;34m(A)\u001b[0m\n\u001b[1;32m      5\u001b[0m \u001b[38;5;28;01mfor\u001b[39;00m i \u001b[38;5;129;01min\u001b[39;00m \u001b[38;5;28mrange\u001b[39m(num_rows):\n\u001b[1;32m      7\u001b[0m     pivot_row \u001b[38;5;241m=\u001b[39m i\n\u001b[0;32m----> 8\u001b[0m     pivot \u001b[38;5;241m=\u001b[39m \u001b[43mB\u001b[49m\u001b[43m[\u001b[49m\u001b[43mi\u001b[49m\u001b[43m]\u001b[49m[i]\n\u001b[1;32m     10\u001b[0m     \u001b[38;5;28;01mwhile\u001b[39;00m pivot \u001b[38;5;241m==\u001b[39m \u001b[38;5;241m0\u001b[39m \u001b[38;5;129;01mand\u001b[39;00m pivot_row \u001b[38;5;241m<\u001b[39m num_rows\u001b[38;5;241m-\u001b[39m\u001b[38;5;241m1\u001b[39m:\n\u001b[1;32m     11\u001b[0m         pivot_row \u001b[38;5;241m+\u001b[39m\u001b[38;5;241m=\u001b[39m \u001b[38;5;241m1\u001b[39m\n",
      "\u001b[0;31mIndexError\u001b[0m: index 3 is out of bounds for axis 0 with size 3"
     ]
    }
   ],
   "source": [
    "A = np.array([\n",
    "    [-2, 1, 2],\n",
    "    [0, -2, 2],\n",
    "    [2, -3, 0],\n",
    "    [6, -5, -4]\n",
    "])\n",
    "\n",
    "C, R = gaussian_elimination(A)\n",
    "\n",
    "print(\"Column Space, C:\")\n",
    "print(C)\n",
    "\n",
    "print(\"Row Space, R:\")\n",
    "print(R)\n"
   ]
  },
  {
   "cell_type": "code",
   "execution_count": null,
   "id": "d1852e4a",
   "metadata": {},
   "outputs": [],
   "source": [
    "########### reference: class discussion for coding challenge #1 more specifically, Joshua"
   ]
  }
 ],
 "metadata": {
  "kernelspec": {
   "display_name": "Python 3 (ipykernel)",
   "language": "python",
   "name": "python3"
  },
  "language_info": {
   "codemirror_mode": {
    "name": "ipython",
    "version": 3
   },
   "file_extension": ".py",
   "mimetype": "text/x-python",
   "name": "python",
   "nbconvert_exporter": "python",
   "pygments_lexer": "ipython3",
   "version": "3.9.12"
  }
 },
 "nbformat": 4,
 "nbformat_minor": 5
}
