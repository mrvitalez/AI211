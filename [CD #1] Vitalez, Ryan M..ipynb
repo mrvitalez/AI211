{
 "cells": [
  {
   "cell_type": "code",
   "execution_count": null,
   "id": "998d5ea8",
   "metadata": {},
   "outputs": [],
   "source": [
    "#### Submitted by: Ryan M. Vitalez"
   ]
  },
  {
   "cell_type": "code",
   "execution_count": 2,
   "id": "47120e8b",
   "metadata": {},
   "outputs": [],
   "source": [
    "import numpy as np\n",
    "from typing import Tuple"
   ]
  },
  {
   "cell_type": "code",
   "execution_count": 5,
   "id": "55f568c7",
   "metadata": {},
   "outputs": [],
   "source": [
    "def gaussian_elimination(A: np.ndarray)-> Tuple[np.ndarray, np.ndarray]:\n",
    "    \n",
    "    B = np.copy(A).astype(float)\n",
    "    num_rows, num_cols = B.shape\n",
    "    \n",
    "    pivot_columns = []\n",
    "    pivot_rows = []\n",
    "    \n",
    "    row = 0\n",
    "    col = 0\n",
    "    \n",
    "    while row < num_rows and col < num_cols:\n",
    "        \n",
    "        max_index = np.argmax(np.abs(B[row:num_rows, col])) + row\n",
    "        \n",
    "        if B[max_index, col] != 0:\n",
    "            # swap rows\n",
    "            B[[row, max_index]] = B[[max_index, row]]\n",
    "            pivot_columns.append(col)\n",
    "            pivot_rows.append(row)\n",
    "            \n",
    "            # scale the pivot rows\n",
    "            B[row,:] /= B[row, col]\n",
    "            \n",
    "            # making sure that the entries below the pivot is zero\n",
    "            for i in range(row + 1, num_rows):\n",
    "                x = B[i, col]\n",
    "                B[i, col:] -= x * B[row, col:]\n",
    "                \n",
    "            row += 1\n",
    "        \n",
    "        col += 1\n",
    "    \n",
    "    # column space\n",
    "    C = A[:, pivot_columns]\n",
    "    \n",
    "    # row space\n",
    "    R = B[pivot_rows, :]\n",
    "    \n",
    "    return C, R"
   ]
  },
  {
   "cell_type": "code",
   "execution_count": 6,
   "id": "4563f32c",
   "metadata": {},
   "outputs": [
    {
     "name": "stdout",
     "output_type": "stream",
     "text": [
      "Column Space, C:\n",
      "[[-2  1  3]\n",
      " [-3  0  1]\n",
      " [-2 -1  0]]\n",
      "Row Space, R:\n",
      "[[ 1.         -0.         -0.33333333 -0.        ]\n",
      " [ 0.          1.          2.33333333  7.        ]\n",
      " [ 0.          0.          1.          3.        ]]\n"
     ]
    }
   ],
   "source": [
    "# using the Homework #1 as example\n",
    "A = np.array([\n",
    "    [-2, 1, 3, 7],\n",
    "    [-3, 0, 1, 0],\n",
    "    [-2, -1, 0, -2]\n",
    "])\n",
    "\n",
    "C, R = gaussian_elimination(A)\n",
    "\n",
    "print(\"Column Space, C:\")\n",
    "print(C)\n",
    "\n",
    "print(\"Row Space, R:\")\n",
    "print(R)"
   ]
  },
  {
   "cell_type": "code",
   "execution_count": 8,
   "id": "f1683b31",
   "metadata": {},
   "outputs": [
    {
     "name": "stdout",
     "output_type": "stream",
     "text": [
      "Column Space, C:\n",
      "[[-2  1]\n",
      " [ 0 -2]\n",
      " [ 2 -3]\n",
      " [ 6 -5]]\n",
      "Row Space, R:\n",
      "[[ 1.         -0.83333333 -0.66666667]\n",
      " [-0.          1.         -1.        ]]\n"
     ]
    }
   ],
   "source": [
    "# using the Homework #1 as example\n",
    "A = np.array([\n",
    "    [-2, 1, 2],\n",
    "    [0, -2, 2],\n",
    "    [2, -3, 0],\n",
    "    [6, -5, -4]\n",
    "])\n",
    "\n",
    "C, R = gaussian_elimination(A)\n",
    "\n",
    "print(\"Column Space, C:\")\n",
    "print(C)\n",
    "\n",
    "print(\"Row Space, R:\")\n",
    "print(R)\n"
   ]
  },
  {
   "cell_type": "code",
   "execution_count": null,
   "id": "a143e3b2",
   "metadata": {},
   "outputs": [],
   "source": []
  }
 ],
 "metadata": {
  "kernelspec": {
   "display_name": "Python 3 (ipykernel)",
   "language": "python",
   "name": "python3"
  },
  "language_info": {
   "codemirror_mode": {
    "name": "ipython",
    "version": 3
   },
   "file_extension": ".py",
   "mimetype": "text/x-python",
   "name": "python",
   "nbconvert_exporter": "python",
   "pygments_lexer": "ipython3",
   "version": "3.9.12"
  }
 },
 "nbformat": 4,
 "nbformat_minor": 5
}
