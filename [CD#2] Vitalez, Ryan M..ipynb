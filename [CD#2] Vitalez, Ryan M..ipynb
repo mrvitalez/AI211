{
 "cells": [
  {
   "cell_type": "code",
   "execution_count": null,
   "id": "58efca81",
   "metadata": {},
   "outputs": [],
   "source": [
    "#### Submitted by: Ryan M. Vitalez\n",
    "\n",
    "#### Objective: Modify the Gaussian Elimination from Coding Challenge #1 and take into account the permutation matrix as well as the lower triangular matrix for LU decomposition."
   ]
  },
  {
   "cell_type": "code",
   "execution_count": 1,
   "id": "c12147f3",
   "metadata": {},
   "outputs": [],
   "source": [
    "import numpy as np\n",
    "from typing import Tuple, List"
   ]
  },
  {
   "cell_type": "code",
   "execution_count": 2,
   "id": "48d0b994",
   "metadata": {},
   "outputs": [],
   "source": [
    "def permutation_matrix(n: int, pivot_rows: List[int]) -> np.ndarray:\n",
    "    P = np.eye(n)\n",
    "    for i, row in enumerate(pivot_rows):\n",
    "        P[[i, row], :] = P[[row, i], :]\n",
    "    return P"
   ]
  },
  {
   "cell_type": "code",
   "execution_count": 3,
   "id": "ea1bbc22",
   "metadata": {},
   "outputs": [],
   "source": [
    "def gaussian_elimination(A: np.ndarray) -> Tuple[np.ndarray, np.ndarray, np.ndarray]:\n",
    "    B = np.copy(A).astype(float)\n",
    "    num_rows, num_cols = B.shape\n",
    "    \n",
    "#    print(\"Original Matrix, A:\")\n",
    "#    print(A)\n",
    "#    print()\n",
    "    \n",
    "    pivot_columns = []\n",
    "    pivot_rows = []\n",
    "\n",
    "    row = 0\n",
    "    col = 0\n",
    "    \n",
    "    while row < num_rows and col < num_cols:\n",
    "        max_index = np.argmax(np.abs(B[row:num_rows, col])) + row\n",
    "\n",
    "        if B[max_index, col] != 0:\n",
    "            \n",
    "            B[[row, max_index]] = B[[max_index, row]]\n",
    "            pivot_columns.append(col)\n",
    "            pivot_rows.append(row)\n",
    "            \n",
    "            B[row+1:, col] /= B[row, col]\n",
    "            \n",
    "            for i in range(row + 1, num_rows):\n",
    "                x = B[i, col]\n",
    "                B[i, col:] -= x * B[row, col:]\n",
    "                \n",
    "            row += 1\n",
    "        \n",
    "        col += 1\n",
    "              \n",
    "#    print(\"Modified Matrix, B:\")\n",
    "#    print(B)\n",
    "#    print()\n",
    "    \n",
    "    # lower triangular matrix\n",
    "    L = np.eye(num_rows) + np.tril(B[:, :num_rows], k=-1)\n",
    "    \n",
    "    # upper triangular matrix (I think there is something wrong with this code I just can't figure out what)\n",
    "    U = np.concatenate((B[:, :num_rows], B[:, num_rows:]), axis=1)\n",
    "    \n",
    "    # permutation matrix\n",
    "    P = permutation_matrix(num_rows, pivot_rows)\n",
    "    \n",
    "    return  L, U, P\n",
    "    "
   ]
  },
  {
   "cell_type": "code",
   "execution_count": 4,
   "id": "df75acec",
   "metadata": {},
   "outputs": [
    {
     "name": "stdout",
     "output_type": "stream",
     "text": [
      "Lower Triangular Matrix, L:\n",
      "[[1.         0.         0.        ]\n",
      " [2.66666667 1.         0.        ]\n",
      " [2.66666667 0.         1.        ]]\n",
      "\n",
      "Upper Triangular Matrix, U\n",
      "[[-3.          0.          1.          0.        ]\n",
      " [ 2.66666667  1.          2.33333333  7.        ]\n",
      " [ 2.66666667  0.          1.66666667  5.        ]]\n",
      "\n",
      "Permutation Matrix, P:\n",
      "[[1. 0. 0.]\n",
      " [0. 1. 0.]\n",
      " [0. 0. 1.]]\n"
     ]
    }
   ],
   "source": [
    "# using the given from Homework #1 as example\n",
    "A = np.array([\n",
    "    [-2, 1, 3, 7],\n",
    "    [-3, 0, 1, 0],\n",
    "    [-2, -1, 0, -2]\n",
    "])\n",
    "L, U, P = gaussian_elimination(A)\n",
    "\n",
    "print(\"Lower Triangular Matrix, L:\")\n",
    "print(L)\n",
    "print()\n",
    "\n",
    "print(\"Upper Triangular Matrix, U\")\n",
    "print(U)\n",
    "print()\n",
    "\n",
    "print(\"Permutation Matrix, P:\")\n",
    "print(P)\n",
    "    "
   ]
  },
  {
   "cell_type": "code",
   "execution_count": 5,
   "id": "f1108051",
   "metadata": {},
   "outputs": [],
   "source": [
    "# to compute for the determinant of A\n",
    "\n",
    "# in computing for the determinant, the given should be square matrix\n",
    "\n",
    "def determinant(A: np.ndarray) -> float:\n",
    "    L, U, P = gaussian_elimination(A)\n",
    "    det = np.linalg.det(P) * np.prod(np.diag(U)) \n",
    "    return det"
   ]
  },
  {
   "cell_type": "code",
   "execution_count": 6,
   "id": "8fb18a82",
   "metadata": {},
   "outputs": [
    {
     "name": "stdout",
     "output_type": "stream",
     "text": [
      "Determinant of A:\n",
      "-5.000000000000001\n"
     ]
    }
   ],
   "source": [
    "# using the given from Homework #1 as example\n",
    "A = np.array([\n",
    "    [-2, 1, 3, 7],\n",
    "    [-3, 0, 1, 0],\n",
    "    [-2, -1, 0, 2]\n",
    "])\n",
    "\n",
    "det_A = determinant(A)\n",
    "\n",
    "print(\"Determinant of A:\")\n",
    "print(det_A)"
   ]
  },
  {
   "cell_type": "code",
   "execution_count": null,
   "id": "dd2c54f2",
   "metadata": {},
   "outputs": [],
   "source": [
    "### note: the result from determinant of A is not possible since in taking the determinant, you need to have a square matrix."
   ]
  }
 ],
 "metadata": {
  "kernelspec": {
   "display_name": "Python 3 (ipykernel)",
   "language": "python",
   "name": "python3"
  },
  "language_info": {
   "codemirror_mode": {
    "name": "ipython",
    "version": 3
   },
   "file_extension": ".py",
   "mimetype": "text/x-python",
   "name": "python",
   "nbconvert_exporter": "python",
   "pygments_lexer": "ipython3",
   "version": "3.9.12"
  }
 },
 "nbformat": 4,
 "nbformat_minor": 5
}
