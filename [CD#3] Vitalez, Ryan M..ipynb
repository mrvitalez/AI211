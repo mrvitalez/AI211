{
 "cells": [
  {
   "cell_type": "code",
   "execution_count": 1,
   "id": "f537e66e",
   "metadata": {},
   "outputs": [],
   "source": [
    "import numpy as np"
   ]
  },
  {
   "cell_type": "code",
   "execution_count": 15,
   "id": "40b39846",
   "metadata": {},
   "outputs": [],
   "source": [
    "def gram_schmidt(A):\n",
    "    m, n = A.shape\n",
    "    Q = np.zeros((m, n))\n",
    "    R = np.zeros((n, n))\n",
    "    \n",
    "    for j in range(n):\n",
    "        v = A[:, j] # initializes the vector, v\n",
    "        for i in range(j):\n",
    "            R[i, j] = np.dot(Q[:, i].T, A[:, j]) # taking the value of R by multiplying the Q transpose with original matrix A\n",
    "            v = v - R[i, j] * Q[:, i] # subtracting the projection \n",
    "        R[j, j] = np.linalg.norm(v) # normalization of the set\n",
    "        Q[:, j] = v / R[j, j] \n",
    "    \n",
    "    return Q, R\n",
    "\n",
    "def qr_decomposition(A):\n",
    "    m, n = A.shape\n",
    "    Q = np.zeros((m, n))\n",
    "    R = np.zeros((n, n))\n",
    "    P = np.eye(n) \n",
    "    \n",
    "    # column pivoting\n",
    "    for j in range(n):\n",
    "        col_norms = np.linalg.norm(A[:, j:], axis = 0)\n",
    "        pivot_index = j + np.argmax(col_norms)\n",
    "        A[:, [j, pivot_index]] = A[:, [pivot_index, j]]\n",
    "        P[:, [j, pivot_index]] = P[:, [pivot_index, j]]\n",
    "        \n",
    "        Qj, Rj, = gram_schmidt(A[:, j:])\n",
    "        Q[:, j:] = Qj\n",
    "        R[j:, j:] = Rj\n",
    "        \n",
    "    return Q, R, P\n",
    "        \n",
    "        "
   ]
  },
  {
   "cell_type": "code",
   "execution_count": 24,
   "id": "00fb5470",
   "metadata": {},
   "outputs": [
    {
     "name": "stdout",
     "output_type": "stream",
     "text": [
      "Orthogonal Matrix, Q:\n",
      "\n",
      " [[ 0.81649658  0.57735027  0.57735027]\n",
      " [-0.40824829  0.57735027  0.57735027]\n",
      " [ 0.40824829 -0.57735027  0.57735027]]\n",
      "\n",
      "Upper Triangular Matrix, R:\n",
      "\n",
      " [[2.44948974 0.         0.81649658]\n",
      " [0.         1.73205081 0.57735027]\n",
      " [0.         0.         1.73205081]]\n"
     ]
    }
   ],
   "source": [
    "A = np.array([\n",
    "    [1, 2, 1],\n",
    "    [1, -1, 1],\n",
    "    [-1, 1, 1]\n",
    "])\n",
    "\n",
    "Q, R, P = qr_decomposition(A)\n",
    "\n",
    "print(\"Orthogonal Matrix, Q:\")\n",
    "print(\"\\n\", Q)\n",
    "\n",
    "print(\"\\nUpper Triangular Matrix, R:\")\n",
    "print(\"\\n\", R)"
   ]
  },
  {
   "cell_type": "code",
   "execution_count": 25,
   "id": "d79448d6",
   "metadata": {},
   "outputs": [
    {
     "name": "stdout",
     "output_type": "stream",
     "text": [
      "Orthogonal Matrix, Q:\n",
      "\n",
      " [[ 0.90236685  0.26726124  0.43643578]\n",
      " [ 0.40606508  0.53452248  0.87287156]\n",
      " [ 0.1443787   0.80178373 -0.21821789]]\n",
      "\n",
      "Upper Triangular Matrix, R:\n",
      "\n",
      " [[1.10819673e+02 2.14763311e+00 3.28461535e-02]\n",
      " [0.00000000e+00 3.74165739e+00 1.87082869e-02]\n",
      " [0.00000000e+00 0.00000000e+00 4.58257569e-02]]\n"
     ]
    }
   ],
   "source": [
    "A = np.array([\n",
    "    [0.02, 1, 100],\n",
    "    [0.04, 2, 45],\n",
    "    [-0.01, 3, 16]\n",
    "])\n",
    "\n",
    "Q, R, P = qr_decomposition(A)\n",
    "\n",
    "print(\"Orthogonal Matrix, Q:\")\n",
    "print(\"\\n\", Q)\n",
    "\n",
    "print(\"\\nUpper Triangular Matrix, R:\")\n",
    "print(\"\\n\", R)\n"
   ]
  },
  {
   "cell_type": "code",
   "execution_count": null,
   "id": "6d192c1d",
   "metadata": {},
   "outputs": [],
   "source": []
  }
 ],
 "metadata": {
  "kernelspec": {
   "display_name": "Python 3 (ipykernel)",
   "language": "python",
   "name": "python3"
  },
  "language_info": {
   "codemirror_mode": {
    "name": "ipython",
    "version": 3
   },
   "file_extension": ".py",
   "mimetype": "text/x-python",
   "name": "python",
   "nbconvert_exporter": "python",
   "pygments_lexer": "ipython3",
   "version": "3.9.12"
  }
 },
 "nbformat": 4,
 "nbformat_minor": 5
}
