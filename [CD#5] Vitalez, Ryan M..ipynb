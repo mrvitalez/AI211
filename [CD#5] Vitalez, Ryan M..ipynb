{
 "cells": [
  {
   "cell_type": "code",
   "execution_count": 1,
   "id": "ac9ba1f8",
   "metadata": {},
   "outputs": [],
   "source": [
    "import numpy as np"
   ]
  },
  {
   "cell_type": "code",
   "execution_count": 12,
   "id": "49e1bfb5",
   "metadata": {},
   "outputs": [],
   "source": [
    "def householder_hessenberg(A): \n",
    "    A = np.array(A, 'float')\n",
    "    m, n = A.shape\n",
    "    H = np.copy(A)\n",
    "    \n",
    "    np.set_printoptions(suppress=True, precision=4)\n",
    "    hist = {}\n",
    "    \n",
    "    for j in range(min(m, n) - 2):\n",
    "        hist[j] = {}\n",
    "        print(f'-----iter{j}-----')\n",
    "        \n",
    "        x = H[j + 1:, j]\n",
    "        v = np.copy(x)\n",
    "        v[0] += np.sign(x[0]) * np.linalg.norm(x)\n",
    "        \n",
    "        v = v / np.linalg.norm(v)\n",
    "        H[j + 1:, j:] -= 2.0 * np.outer(v, np.dot(v, H[j + 1:, j:])).astype(np.float64)\n",
    "        \n",
    "        hist[j]['H'] = np.eye(n)\n",
    "        hist[j]['H'][j + 1:, j + 1:] = np.eye(m - j -1) - 2.0 * np.outer(v, v)\n",
    "        hist[j]['HAH'] = np.dot(hist[j]['H'], np.dot(H, hist[j]['H']))\n",
    "        \n",
    "        print(f'H\\n{hist[j][\"H\"]}')\n",
    "        print(f'HAH\\n{hist[j][\"HAH\"]}')\n",
    "        \n",
    "    return H, hist"
   ]
  },
  {
   "cell_type": "code",
   "execution_count": 19,
   "id": "338b6274",
   "metadata": {},
   "outputs": [],
   "source": [
    "def qr_algo(A, num_iterations=100):\n",
    "    A = np.array(A, 'float')\n",
    "    H, hist = householder_hessenberg(A)\n",
    "    n = H.shape[0]\n",
    "    Q = np.eye(n)\n",
    "    \n",
    "    for i in range(num_iterations):\n",
    "        Q, R = np.linalg.qr(H)\n",
    "        H = np.dot(R, Q)\n",
    "    \n",
    "    Schur = np.copy(H)\n",
    "    for j in range(min(n,n) - 2):\n",
    "        Schur = np.dot(hist[j]['H'].T, Schur)\n",
    "        Schur = np.dot(Schur, hist[j]['H'])\n",
    "        \n",
    "    return Schur"
   ]
  },
  {
   "cell_type": "code",
   "execution_count": 20,
   "id": "c87f7ac6",
   "metadata": {},
   "outputs": [],
   "source": [
    "A1 = [\n",
    "    [1, -2, 5],\n",
    "    [6, 3, 9],\n",
    "    [-1, 4, 8]\n",
    "]\n",
    "\n",
    "A2 = [\n",
    "    [5, -2, 19, 6],\n",
    "    [6, 22, 18, 2],\n",
    "    [-1, 15, 8, -23],\n",
    "    [14, 23, -38, 14]\n",
    "]\n",
    "\n",
    "A3 = [\n",
    "    [10, 16, -5, 23, 35],\n",
    "    [19, -31, 27, 15, 8],\n",
    "    [-1, -17, 29, -4, 25],\n",
    "    [9, -18, 7, 26, 33],\n",
    "    [-18, 23, 38, -16, 5]\n",
    "]\n"
   ]
  },
  {
   "cell_type": "code",
   "execution_count": 21,
   "id": "c1714c12",
   "metadata": {},
   "outputs": [
    {
     "name": "stdout",
     "output_type": "stream",
     "text": [
      "-----iter0-----\n",
      "H\n",
      "[[ 1.      0.      0.    ]\n",
      " [ 0.     -0.9864  0.1644]\n",
      " [ 0.      0.1644  0.9864]]\n",
      "HAH\n",
      "[[ 1.      2.7948  4.6032]\n",
      " [ 6.     -1.4796  9.3707]\n",
      " [-1.     -2.6304  8.5487]]\n",
      "Schur matrix of A1:\n",
      "[[ 2.5147  6.9767 -5.7493]\n",
      " [-4.1561  8.5843 -6.6207]\n",
      " [ 0.6927 -2.1196 -3.0298]]\n",
      "\n"
     ]
    }
   ],
   "source": [
    "# 3x3 matrix\n",
    "\n",
    "schur_A1 = qr_algo(A1)\n",
    "\n",
    "print(\"Schur matrix of A1:\")\n",
    "print(schur_A1)\n",
    "print()\n"
   ]
  },
  {
   "cell_type": "code",
   "execution_count": 22,
   "id": "02e6a0c0",
   "metadata": {},
   "outputs": [
    {
     "name": "stdout",
     "output_type": "stream",
     "text": [
      "-----iter0-----\n",
      "H\n",
      "[[ 1.      0.      0.      0.    ]\n",
      " [ 0.     -0.3931  0.0655 -0.9172]\n",
      " [ 0.      0.0655  0.9969  0.0431]\n",
      " [ 0.     -0.9172  0.0431  0.3962]]\n",
      "HAH\n",
      "[[  5.      -3.4721  19.0692   5.0308]\n",
      " [  6.      -9.3027  19.4721 -18.6091]\n",
      " [ -1.      15.7229   7.966  -22.524 ]\n",
      " [ 14.     -24.3705 -35.7723 -17.1878]]\n",
      "-----iter1-----\n",
      "H\n",
      "[[ 1.      0.      0.      0.    ]\n",
      " [ 0.      1.      0.      0.    ]\n",
      " [ 0.      0.     -0.8578  0.514 ]\n",
      " [ 0.      0.      0.514   0.8578]]\n",
      "HAH\n",
      "[[  5.      -2.     -13.2136  14.9131]\n",
      " [-15.2643 -28.7598 -32.055    1.5665]\n",
      " [ -0.      17.3871 -17.855  -15.1745]\n",
      " [ -0.     -10.4192  28.176  -13.7137]]\n",
      "Schur matrix of A2:\n",
      "[[-19.1899  17.3217  39.6531  10.6522]\n",
      " [-10.4876   2.071   -2.9816 -10.3995]\n",
      " [-14.0781 -21.4374 -15.3915   6.6611]\n",
      " [-20.0923  -1.6013   2.5681 -22.8183]]\n",
      "\n"
     ]
    }
   ],
   "source": [
    "# 4x4 matrix\n",
    "\n",
    "schur_A2 = qr_algo(A2)\n",
    "\n",
    "print(\"Schur matrix of A2:\")\n",
    "print(schur_A2)\n",
    "print()"
   ]
  },
  {
   "cell_type": "code",
   "execution_count": 23,
   "id": "8f795705",
   "metadata": {},
   "outputs": [
    {
     "name": "stdout",
     "output_type": "stream",
     "text": [
      "-----iter0-----\n",
      "H\n",
      "[[ 1.      0.      0.      0.      0.    ]\n",
      " [ 0.     -0.6861  0.0361 -0.325   0.6499]\n",
      " [ 0.      0.0361  0.9992  0.007  -0.0139]\n",
      " [ 0.     -0.325   0.007   0.9374  0.1253]\n",
      " [ 0.      0.6499 -0.0139  0.1253  0.7495]]\n",
      "HAH\n",
      "[[ 10.       4.1163  -4.7455  20.7095  39.581 ]\n",
      " [ 19.      22.5674  25.8528  25.3246 -12.6493]\n",
      " [ -1.      30.2584  27.9879   5.1086   6.7827]\n",
      " [  9.      25.6005   6.0663  34.4036  16.1928]\n",
      " [-18.      -5.9578  38.6202 -21.5814  16.1627]]\n",
      "-----iter1-----\n",
      "H\n",
      "[[ 1.      0.      0.      0.      0.    ]\n",
      " [ 0.      1.      0.      0.      0.    ]\n",
      " [ 0.      0.     -0.9458 -0.2057 -0.2513]\n",
      " [ 0.      0.     -0.2057  0.9782 -0.0266]\n",
      " [ 0.      0.     -0.2513 -0.0266  0.9675]]\n",
      "HAH\n",
      "[[ 10.      16.      -8.798   22.5984  34.5095]\n",
      " [-27.6948  41.4519   4.3766 -29.3438 -12.1337]\n",
      " [  0.     -18.5516 -33.637   -9.7245  17.2795]\n",
      " [  0.      -4.0355 -13.5144  15.7451  27.0333]\n",
      " [  0.      -4.9289 -47.4003  -8.8582   0.6061]]\n",
      "-----iter2-----\n",
      "H\n",
      "[[ 1.      0.      0.      0.      0.    ]\n",
      " [ 0.      1.      0.      0.      0.    ]\n",
      " [ 0.      0.      1.      0.      0.    ]\n",
      " [ 0.      0.      0.     -0.122   0.9925]\n",
      " [ 0.      0.      0.      0.9925  0.122 ]]\n",
      "HAH\n",
      "[[ 10.      16.      -5.      31.9336  27.0969]\n",
      " [-27.6948  41.4519   4.9468  -8.3986 -30.5358]\n",
      " [ -0.      19.6148 -40.1254 -32.8775  -5.0232]\n",
      " [  0.      -0.      -4.6095  20.6017  20.3487]\n",
      " [  0.      -0.      37.5131   4.9537   1.9573]]\n",
      "Schur matrix of A3:\n",
      "[[-49.3431 -20.1765  16.0023 -14.7978 -10.3742]\n",
      " [  0.      12.6898  20.1758   0.5672  28.0408]\n",
      " [  0.      29.1215  33.7404  52.3944  -1.8957]\n",
      " [ -0.      -8.2148 -18.0553  14.3541 -12.7379]\n",
      " [  0.      -6.5911  14.8526  -0.0163  22.4442]]\n",
      "\n"
     ]
    }
   ],
   "source": [
    "# 5x5 matrix\n",
    "\n",
    "schur_A3 = qr_algo(A3)\n",
    "\n",
    "print(\"Schur matrix of A3:\")\n",
    "print(schur_A3)\n",
    "print()"
   ]
  },
  {
   "cell_type": "code",
   "execution_count": null,
   "id": "950f1677",
   "metadata": {},
   "outputs": [],
   "source": []
  }
 ],
 "metadata": {
  "kernelspec": {
   "display_name": "Python 3 (ipykernel)",
   "language": "python",
   "name": "python3"
  },
  "language_info": {
   "codemirror_mode": {
    "name": "ipython",
    "version": 3
   },
   "file_extension": ".py",
   "mimetype": "text/x-python",
   "name": "python",
   "nbconvert_exporter": "python",
   "pygments_lexer": "ipython3",
   "version": "3.9.12"
  }
 },
 "nbformat": 4,
 "nbformat_minor": 5
}
